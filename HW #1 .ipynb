{
 "cells": [
  {
   "cell_type": "markdown",
   "metadata": {},
   "source": [
    "# HW 1 \n",
    "\n",
    "> Create a dictionary that identifies your name, major(s)/minor(s), motivation for taking the course, and plans for after you graduate from NDSU. \n",
    "\n",
    ">Transform this into a dataframe. Print the dataframe and save the dataframe as a csv. "
   ]
  },
  {
   "cell_type": "code",
   "execution_count": 6,
   "metadata": {},
   "outputs": [
    {
     "data": {
      "text/plain": [
       "{'Dylan Kallman': {'Major': 'BS Agriculture Economics & MS Agribusiness and Applied Economics',\n",
       "  'Motivation for taking course': 'Want to learn code in order to stream-line data processing.',\n",
       "  'Post graduate expectations': 'Looking to go into VC, Investment Banking or Commodity Trading after I graduate.'}}"
      ]
     },
     "execution_count": 6,
     "metadata": {},
     "output_type": "execute_result"
    }
   ],
   "source": [
    "import pandas as pd\n",
    "Dylan_dict = {\"Dylan Kallman\":{\"Major\":\"BS Agriculture Economics & MS Agribusiness and Applied Economics\",\n",
    "     \"Motivation for taking course\":\"Want to learn code in order to stream-line data processing.\",\n",
    "     \"Post graduate expectations\":\"Looking to go into VC, Investment Banking or Commodity Trading after I graduate.\"},\n",
    "             }\n",
    "Dylan_dict"
   ]
  },
  {
   "cell_type": "code",
   "execution_count": 7,
   "metadata": {
    "scrolled": true
   },
   "outputs": [
    {
     "data": {
      "text/html": [
       "<div>\n",
       "<style scoped>\n",
       "    .dataframe tbody tr th:only-of-type {\n",
       "        vertical-align: middle;\n",
       "    }\n",
       "\n",
       "    .dataframe tbody tr th {\n",
       "        vertical-align: top;\n",
       "    }\n",
       "\n",
       "    .dataframe thead th {\n",
       "        text-align: right;\n",
       "    }\n",
       "</style>\n",
       "<table border=\"1\" class=\"dataframe\">\n",
       "  <thead>\n",
       "    <tr style=\"text-align: right;\">\n",
       "      <th></th>\n",
       "      <th>Dylan Kallman</th>\n",
       "    </tr>\n",
       "  </thead>\n",
       "  <tbody>\n",
       "    <tr>\n",
       "      <th>Major</th>\n",
       "      <td>BS Agriculture Economics &amp; MS Agribusiness and...</td>\n",
       "    </tr>\n",
       "    <tr>\n",
       "      <th>Motivation for taking course</th>\n",
       "      <td>Want to learn code in order to stream-line dat...</td>\n",
       "    </tr>\n",
       "    <tr>\n",
       "      <th>Post graduate expectations</th>\n",
       "      <td>Looking to go into VC, Investment Banking or C...</td>\n",
       "    </tr>\n",
       "  </tbody>\n",
       "</table>\n",
       "</div>"
      ],
      "text/plain": [
       "                                                                  Dylan Kallman\n",
       "Major                         BS Agriculture Economics & MS Agribusiness and...\n",
       "Motivation for taking course  Want to learn code in order to stream-line dat...\n",
       "Post graduate expectations    Looking to go into VC, Investment Banking or C..."
      ]
     },
     "execution_count": 7,
     "metadata": {},
     "output_type": "execute_result"
    }
   ],
   "source": [
    "Dylan_df = pd.DataFrame(Dylan_dict)\n",
    "Dylan_df.to_csv(\"NDSUAAEDylanInfo.csv\")\n",
    "Dylan_df"
   ]
  }
 ],
 "metadata": {
  "kernelspec": {
   "display_name": "Python 3",
   "language": "python",
   "name": "python3"
  },
  "language_info": {
   "codemirror_mode": {
    "name": "ipython",
    "version": 3
   },
   "file_extension": ".py",
   "mimetype": "text/x-python",
   "name": "python",
   "nbconvert_exporter": "python",
   "pygments_lexer": "ipython3",
   "version": "3.8.3"
  }
 },
 "nbformat": 4,
 "nbformat_minor": 4
}
